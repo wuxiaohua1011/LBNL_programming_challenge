{
 "cells": [
  {
   "cell_type": "markdown",
   "metadata": {},
   "source": [
    "# Programming Challenge\n",
    "\n",
    "### 1. Introduction\n",
    "The goal of this challenge is to give you a chance to show how you would solve a small programming task, while at the same time give you a glimpse into the kind of problems we come across on a regular basis.\n",
    "#### 1.1. Problem\n",
    "\n",
    "You have a number of files of different size. You also have a number of compute nodes, with available space on their hard drives; the available space may also vary widely.\n",
    "\n",
    "Your goal is to distribute the files as evenly as possible to the nodes.  One reason for doing this might be that you have a lot of clients reading these files, and you want to spread the load of these reads as evenly as possible across the nodes.\n",
    "\n",
    "Note that it is the space used by the files, not the free space on the disk, that you are trying to balance. The free space is just a constraint on how much data you can fit onto the disk.\n",
    "#### 1.2. Hints\n",
    "\n",
    "1. Start with biggest files first, smallest ones last.\n",
    "2. Try to put files on the node that has the least amount of data added so far.\n",
    "3. Think about the data structures that will make it easier to access files and nodes in the order you want.\n",
    "4. A perfect solution is not necessary. Try to get something reasonably good that can be achieved in a reasonable time, even for tens of thousands of files and hundreds of nodes.\n",
    "5. Although a good solution is more important than beautiful code, please try to add reasonable comments and docstrings just as you would for a real Python program.  Consider your solution as something other people will use as part of a larger system.\n",
    "\n",
    "\n",
    "### 2. Details\n",
    "This section gives details on what the inputs will look like, what the outputs should look like, and how the program will be invoked from the command line.\n",
    "#### 2.1. Inputs\n",
    "\n",
    "There are two input files: `files` and `nodes`.  Both have the same\n",
    "structure: simple text files, with one item per line, using the\n",
    "newline character `\\n` to separate lines. For both files, any blank line or line beginning with the comment character ('#') should be ignored. Any other line will have two fields separated by one or more spaces. The first field will be a string and the second field will be an integer:\n",
    "\n",
    " For `files`, the first field is the name of the file and the second field is the size of the file (in bytes).\n",
    " For `nodes`, the first field is the name of the node and the second field is the amount of free space (in bytes).\n",
    "\n",
    "Example of \"files\":\n",
    "\n",
    "\t# filename size  \n",
    "\ttom.dat 1024\n",
    "\tjerry.dat 16553\n",
    "\ttweety.out 12345\n",
    "\telmerfudd.txt 987654321\n",
    "    \n",
    "Example of \"nodes\":\n",
    "\n",
    "\t# node-name available-space\n",
    "\tnode1 65536\n",
    "\tnode2 32768\n",
    "#### 2.2. Output\n",
    "The program should print its output to the terminal (i.e. standard output, the default for\n",
    "the \"print\" statement). For each file, the output should have one line, with two fields separated by a space: the name of the file, and the  name of the node where it was placed by the program.\n",
    "For files that didn't get placed on any node, use the word \"NULL\" for the node name.\n",
    "\n",
    "Example of the output:\n",
    "\n",
    "\ttom.dat node1\n",
    "\ttweety.out node1\n",
    "\tjerry.dat node2\n",
    "\t\n"
   ]
  },
  {
   "cell_type": "code",
   "execution_count": 267,
   "metadata": {},
   "outputs": [],
   "source": [
    "### install and import packages\n",
    "import pandas as pd\n",
    "from heapq import heappush, heappop\n",
    "import heapq, argparse"
   ]
  },
  {
   "cell_type": "code",
   "execution_count": 266,
   "metadata": {},
   "outputs": [
    {
     "name": "stderr",
     "output_type": "stream",
     "text": [
      "usage: ipykernel_launcher.py [-h] [--files FILES] [--nodes NODES]\n",
      "ipykernel_launcher.py: error: unrecognized arguments: -f /Users/michaelwu/Library/Jupyter/runtime/kernel-33a80656-32b6-4965-9423-03d5c670911f.json\n"
     ]
    },
    {
     "ename": "SystemExit",
     "evalue": "2",
     "output_type": "error",
     "traceback": [
      "An exception has occurred, use %tb to see the full traceback.\n",
      "\u001b[0;31mSystemExit\u001b[0m\u001b[0;31m:\u001b[0m 2\n"
     ]
    },
    {
     "name": "stderr",
     "output_type": "stream",
     "text": [
      "/usr/local/lib/python3.6/site-packages/IPython/core/interactiveshell.py:2971: UserWarning: To exit: use 'exit', 'quit', or Ctrl-D.\n",
      "  warn(\"To exit: use 'exit', 'quit', or Ctrl-D.\", stacklevel=1)\n"
     ]
    }
   ],
   "source": [
    "# commandline parser\n",
    "parser = argparse.ArgumentParser()\n",
    "parser.add_argument(\"--files\", help='the path of the list of file name and size file')\n",
    "parser.add_argument(\"--nodes\", help='the path of the list of node name and available space file')\n",
    "args = parser.parse_args()"
   ]
  },
  {
   "cell_type": "code",
   "execution_count": 258,
   "metadata": {},
   "outputs": [],
   "source": [
    "### read in data\n",
    "file_name = args.files\n",
    "node_name = args.nodes\n",
    "files_df = pd.read_csv(file_name,comment=\"#\", delim_whitespace=True, header=None)\n",
    "nodes_df = pd.read_csv(node_name,comment=\"#\", delim_whitespace=True, header=None)"
   ]
  },
  {
   "cell_type": "code",
   "execution_count": 259,
   "metadata": {},
   "outputs": [],
   "source": [
    "### reset colum names\n",
    "files_df.columns=['filename','size']\n",
    "nodes_df.columns=['nodes','available_space']"
   ]
  },
  {
   "cell_type": "code",
   "execution_count": 290,
   "metadata": {},
   "outputs": [],
   "source": [
    "### define customized data objects\n",
    "class File:\n",
    "    def __init__(self, filename, size, storage_node=None):\n",
    "        self.filename = filename\n",
    "        self.size = size\n",
    "        self.storage_node = None\n",
    "    def __str__(self):\n",
    "        return \"{} {}\".format(self.filename, \"Null\" if self.storage_node == None else self.storage_node.nodeName)\n",
    "    def __repr__(self):\n",
    "        return \"filename: {} | size: {} | storage_node: {}\".format(self.filename, self.size, \"Null\" if self.storage_node == None else self.storage_node.nodeName)\n",
    "    #for this.size < other.size\n",
    "    def __lt__(self, other):\n",
    "        return self.size < other.size\n",
    "    # this.size <= other.size\n",
    "    def __le__(self, other):\n",
    "        return self.size <= other.size\n",
    "    # greater than\n",
    "    def __gt__(self, other):\n",
    "        return self.size > other.size\n",
    "    def __ge__(self, other):\n",
    "        return self.size >= other.size\n",
    "    # add the node to storage node and return true, return false if cannot add\n",
    "    def addNode(self, node):\n",
    "        if node.available_space >= self.size:\n",
    "            node.available_space = node.available_space - self.size\n",
    "            node.used_space = self.size + node.used_space\n",
    "            self.storage_node = node\n",
    "            return True\n",
    "        else:\n",
    "            return False\n",
    "    \n",
    "class Node:\n",
    "    def __init__(self, nodeName, available_space, used_space=0):\n",
    "        self.nodeName = nodeName\n",
    "        self.available_space = available_space\n",
    "        self.used_space = used_space\n",
    "    def __str__(self):\n",
    "        return self.__repr__()\n",
    "    def __repr__(self):\n",
    "        return \"nodeName: {} | available_space: {} | used_space: {}\".format(self.nodeName, self.available_space, self.used_space)\n",
    "    #for this.size < other.size\n",
    "    def __lt__(self, other):\n",
    "        return self.used_space < other.used_space if self.used_space != other.used_space else self.available_space < other.available_space\n",
    "    # this.size <= other.size\n",
    "    def __le__(self, other):\n",
    "        return self.used_space <= other.used_space if self.used_space != other.used_space else self.available_space <= other.available_space\n",
    "    # greater than\n",
    "    def __gt__(self, other):\n",
    "        return self.used_space > other.used_space if self.used_space != other.used_space else self.available_space > other.available_space\n",
    "    def __ge__(self, other):\n",
    "        return self.used_space >= other.used_space if self.used_space != other.used_space else self.available_space >= other.available_space"
   ]
  },
  {
   "cell_type": "code",
   "execution_count": 291,
   "metadata": {},
   "outputs": [],
   "source": [
    "# put dataframe into array for sorting\n",
    "files = []\n",
    "nodes = []\n",
    "for index, row in files_df.iterrows():\n",
    "    f = File(row['filename'], row['size'])\n",
    "    files.append(f)\n",
    "for index, row in nodes_df.iterrows():\n",
    "    n = Node(row['nodes'], row['available_space'])\n",
    "    nodes.append(n)"
   ]
  },
  {
   "cell_type": "code",
   "execution_count": 292,
   "metadata": {},
   "outputs": [],
   "source": [
    "### inplace heapification\n",
    "heapq._heapify_max(files)\n",
    "heapq._heapify_max(nodes)"
   ]
  },
  {
   "cell_type": "code",
   "execution_count": 293,
   "metadata": {
    "scrolled": true
   },
   "outputs": [],
   "source": [
    "# initialize a result list for storing results\n",
    "result = []\n",
    "# as long as there are still files in the heap\n",
    "# pop off the first element in the file heap, call it current_file\n",
    "# pop off the first element in the nodes heap, call it current_node\n",
    "# if current_file add current_node is successful\n",
    "#     check if the node still have space\n",
    "#         if yes, push the node back to the nodes heap\n",
    "# else(current_file cannot be stored in current_node)\n",
    "#     as long as there are still node in the nodes heap\n",
    "#         push the current node to a temporary list used to push the the current node back onto the heap\n",
    "#         pop off the first node, set current_node to that node\n",
    "#         if current_file can add current_node, break, otherwise, continue\n",
    "#     if there are no nodes that can store this file, this file just simply would not be modified, and the field of storage node will be None\n",
    "#     re-heapify nodes\n",
    "# append the current_file to the list of result\n",
    "while files:\n",
    "    current_file = heapq.heappop(files)\n",
    "    temp_nodes = []\n",
    "    current_node = heapq.heappop(nodes)\n",
    "    if not current_file.addNode(current_node):\n",
    "        while(nodes):\n",
    "            temp_nodes.append(current_node)\n",
    "            current_node = heapq.heappop(nodes)\n",
    "            if current_file.addNode(current_node):\n",
    "                break\n",
    "        nodes = nodes + temp_nodes\n",
    "        heapq._heapify_max(nodes) \n",
    "        temp_nodes = []\n",
    "\n",
    "    if current_node.available_space > 0:\n",
    "        heapq.heappush(nodes, current_node)\n",
    "    result.append(current_file)       "
   ]
  },
  {
   "cell_type": "code",
   "execution_count": 294,
   "metadata": {
    "scrolled": false
   },
   "outputs": [
    {
     "name": "stdout",
     "output_type": "stream",
     "text": [
      "elmerfudd.txt Null\n",
      "tom.dat node2\n",
      "tweety.out node1\n",
      "jerry.dat node2\n"
     ]
    }
   ],
   "source": [
    "for file in result:\n",
    "    print(file)"
   ]
  },
  {
   "cell_type": "code",
   "execution_count": null,
   "metadata": {},
   "outputs": [],
   "source": [
    "class File:\n",
    "    def __init__(self, filename, size, storage_node=None):\n",
    "        self.filename = filename\n",
    "        self.size = size\n",
    "        self.storage_node = None\n",
    "    def __str__(self):\n",
    "        return \"{} {}\".format(self.filename, \"Null\" if self.storage_node == None else self.storage_node.nodeName)\n",
    "    def __repr__(self):\n",
    "        return \"filename: {} | size: {} | storage_node: {}\".format(self.filename, self.size, \"Null\" if self.storage_node == None else self.storage_node.nodeName)\n",
    "    #for this.size < other.size\n",
    "    def __lt__(self, other):\n",
    "        return self.size < other.size\n",
    "    # this.size <= other.size\n",
    "    def __le__(self, other):\n",
    "        return self.size <= other.size\n",
    "    # greater than\n",
    "    def __gt__(self, other):\n",
    "        return self.size > other.size\n",
    "    def __ge__(self, other):\n",
    "        return self.size >= other.size\n",
    "    # add the node to storage node and return true, return false if cannot add\n",
    "    def addNode(self, node):\n",
    "        if node.available_space >= self.size:\n",
    "            node.available_space = node.available_space - self.size\n",
    "            node.used_space = self.size + node.used_space\n",
    "            self.storage_node = node\n",
    "            return True\n",
    "        else:\n",
    "            return False\n",
    "    \n",
    "class Node:\n",
    "    def __init__(self, nodeName, available_space, used_space=0):\n",
    "        self.nodeName = nodeName\n",
    "        self.available_space = available_space\n",
    "        self.used_space = used_space\n",
    "    def __str__(self):\n",
    "        return self.__repr__()\n",
    "    def __repr__(self):\n",
    "        return \"nodeName: {} | available_space: {} | used_space: {}\".format(self.nodeName, self.available_space, self.used_space)\n",
    "    #for this.size < other.size\n",
    "    def __lt__(self, other):\n",
    "        return self.used_space < other.used_space if self.used_space != other.used_space else self.available_space < other.available_space\n",
    "    # this.size <= other.size\n",
    "    def __le__(self, other):\n",
    "        return self.used_space <= other.used_space if self.used_space != other.used_space else self.available_space <= other.available_space\n",
    "    # greater than\n",
    "    def __gt__(self, other):\n",
    "        return self.used_space > other.used_space if self.used_space != other.used_space else self.available_space > other.available_space\n",
    "    def __ge__(self, other):\n",
    "        return self.used_space >= other.used_space if self.used_space != other.used_space else self.available_space >= other.available_space"
   ]
  },
  {
   "cell_type": "code",
   "execution_count": 7,
   "metadata": {},
   "outputs": [
    {
     "name": "stderr",
     "output_type": "stream",
     "text": [
      "usage: ipykernel_launcher.py [-h] [--files FILES] [--nodes NODES]\n",
      "ipykernel_launcher.py: error: unrecognized arguments: -f /Users/michaelwu/Library/Jupyter/runtime/kernel-0c61fb05-9f0c-4b08-b9eb-31e0961c8cb9.json\n"
     ]
    },
    {
     "ename": "SystemExit",
     "evalue": "2",
     "output_type": "error",
     "traceback": [
      "An exception has occurred, use %tb to see the full traceback.\n",
      "\u001b[0;31mSystemExit\u001b[0m\u001b[0;31m:\u001b[0m 2\n"
     ]
    },
    {
     "name": "stderr",
     "output_type": "stream",
     "text": [
      "/usr/local/lib/python3.6/site-packages/IPython/core/interactiveshell.py:2971: UserWarning: To exit: use 'exit', 'quit', or Ctrl-D.\n",
      "  warn(\"To exit: use 'exit', 'quit', or Ctrl-D.\", stacklevel=1)\n"
     ]
    }
   ],
   "source": [
    "### install and import packages\n",
    "from File import File\n",
    "from Node import Node\n",
    "import pandas as pd\n",
    "from heapq import heappush, heappop\n",
    "import heapq, argparse\n",
    "# commandline parser\n",
    "parser = argparse.ArgumentParser()\n",
    "parser.add_argument(\"--files\", help='the path of the list of file name and size file')\n",
    "parser.add_argument(\"--nodes\", help='the path of the list of node name and available space file')\n",
    "args = parser.parse_args()\n",
    "\n",
    "### read in data\n",
    "file_name = args.files\n",
    "node_name = args.nodes\n",
    "\n",
    "file_df = None\n",
    "nodes_df = None\n",
    "try:\n",
    "    files_df = pd.read_csv(file_name,comment=\"#\", delim_whitespace=True, header=None)\n",
    "    nodes_df = pd.read_csv(node_name,comment=\"#\", delim_whitespace=True, header=None)\n",
    "except e:\n",
    "    print(\"Argument not right\")\n",
    "\n",
    "### reset colum names\n",
    "files_df.columns=['filename','size']\n",
    "nodes_df.columns=['nodes','available_space']\n",
    "\n",
    "# put dataframe into array for sorting\n",
    "files = []\n",
    "nodes = []\n",
    "for index, row in files_df.iterrows():\n",
    "    f = File(row['filename'], row['size'])\n",
    "    files.append(f)\n",
    "for index, row in nodes_df.iterrows():\n",
    "    n = Node(row['nodes'], row['available_space'])\n",
    "    nodes.append(n)\n",
    "    \n",
    "### inplace heapification\n",
    "heapq._heapify_max(files)\n",
    "heapq._heapify_max(nodes)\n",
    "result = []\n",
    "\n",
    "\n",
    "# as long as there are still files in the heap\n",
    "# pop off the first element in the file heap, call it current_file\n",
    "# pop off the first element in the nodes heap, call it current_node\n",
    "# if current_file add current_node is successful\n",
    "#     check if the node still have space\n",
    "#         if yes, push the node back to the nodes heap\n",
    "# else(current_file cannot be stored in current_node)\n",
    "#     as long as there are still node in the nodes heap\n",
    "#         push the current node to a temporary list used to push the the current node back onto the heap\n",
    "#         pop off the first node, set current_node to that node\n",
    "#         if current_file can add current_node, break, otherwise, continue\n",
    "#     if there are no nodes that can store this file, this file just simply would not be modified, and the field of storage node will be None\n",
    "#     re-heapify nodes\n",
    "# append the current_file to the list of result\n",
    "def arrange(result, files, nodes):\n",
    "    while files:\n",
    "        current_file = heapq.heappop(files)\n",
    "        temp_nodes = []\n",
    "        current_node = heapq.heappop(nodes)\n",
    "        if not current_file.addNode(current_node):\n",
    "            while(nodes):\n",
    "                temp_nodes.append(current_node)\n",
    "                current_node = heapq.heappop(nodes)\n",
    "                if current_file.addNode(current_node):\n",
    "                    break\n",
    "            nodes = nodes + temp_nodes\n",
    "            heapq._heapify_max(nodes) \n",
    "            temp_nodes = []\n",
    "\n",
    "        if current_node.available_space > 0:\n",
    "            heapq.heappush(nodes, current_node)\n",
    "        result.append(current_file) \n",
    "    return result\n",
    " \n",
    "arrange(result, files, nodes)\n",
    "# print out result as required\n",
    "for file in result:\n",
    "    print(file)"
   ]
  },
  {
   "cell_type": "code",
   "execution_count": null,
   "metadata": {},
   "outputs": [],
   "source": []
  }
 ],
 "metadata": {
  "kernelspec": {
   "display_name": "Python 3",
   "language": "python",
   "name": "python3"
  },
  "language_info": {
   "codemirror_mode": {
    "name": "ipython",
    "version": 3
   },
   "file_extension": ".py",
   "mimetype": "text/x-python",
   "name": "python",
   "nbconvert_exporter": "python",
   "pygments_lexer": "ipython3",
   "version": "3.6.5"
  }
 },
 "nbformat": 4,
 "nbformat_minor": 2
}
